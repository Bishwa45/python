{
 "cells": [
  {
   "cell_type": "code",
   "execution_count": 2,
   "id": "ec649024",
   "metadata": {},
   "outputs": [],
   "source": [
    "import numpy as np\n",
    "import pandas as pd\n",
    "import cv2 as cv\n",
    "from PIL import Image\n",
    "import matplotlib.pylab as plt"
   ]
  },
  {
   "cell_type": "code",
   "execution_count": 3,
   "id": "24802f5e",
   "metadata": {},
   "outputs": [],
   "source": [
    "img1=cv.imread('color.jpg')"
   ]
  },
  {
   "cell_type": "code",
   "execution_count": 4,
   "id": "be37aa82",
   "metadata": {},
   "outputs": [],
   "source": [
    "img2=cv.cvtColor(img1,cv.COLOR_BGR2GRAY)\n",
    "cv.imshow('Gray',img2)\n",
    "cv.waitKey(0)\n",
    "cv.destroyAllWindows()"
   ]
  },
  {
   "cell_type": "code",
   "execution_count": null,
   "id": "b726753c",
   "metadata": {},
   "outputs": [],
   "source": [
    "from matplotlib import pyplot as plt\n",
    "\n",
    "img = cv.imread('color.jpg') \n",
    "\n",
    "B, G, R = img[:,:,0], img[:,:,1], img[:,:,2]\n",
    "imgGray = 0.2989 * R + 0.5870 * G + 0.1140 * B\n",
    "plt.imshow(imgGray, cmap='gray')\n",
    "plt.show()"
   ]
  },
  {
   "cell_type": "code",
   "execution_count": 5,
   "id": "3ca8fc26",
   "metadata": {},
   "outputs": [],
   "source": [
    "kernel=np.ones((5,5),np.uint8)"
   ]
  },
  {
   "cell_type": "code",
   "execution_count": 10,
   "id": "bbc83617",
   "metadata": {},
   "outputs": [],
   "source": [
    "img = cv.imread('b.png')\n",
    "kernel = np.ones((5,5),np.uint8)\n",
    "img_erosion = cv.erode(img,kernel,iterations = 1)\n",
    "img_dilation = cv.dilate(img, kernel,iterations = 2)"
   ]
  },
  {
   "cell_type": "code",
   "execution_count": 11,
   "id": "1195fa3a",
   "metadata": {},
   "outputs": [],
   "source": [
    "cv.imshow('erosion',img_erosion)\n",
    "cv.imshow('dilation',img_dilation)\n",
    "cv.waitKey(0)\n",
    "cv.destroyAllWindows()\n"
   ]
  },
  {
   "cell_type": "code",
   "execution_count": null,
   "id": "cb14d59b",
   "metadata": {},
   "outputs": [],
   "source": []
  }
 ],
 "metadata": {
  "kernelspec": {
   "display_name": "Python 3 (ipykernel)",
   "language": "python",
   "name": "python3"
  },
  "language_info": {
   "codemirror_mode": {
    "name": "ipython",
    "version": 3
   },
   "file_extension": ".py",
   "mimetype": "text/x-python",
   "name": "python",
   "nbconvert_exporter": "python",
   "pygments_lexer": "ipython3",
   "version": "3.9.7"
  }
 },
 "nbformat": 4,
 "nbformat_minor": 5
}
